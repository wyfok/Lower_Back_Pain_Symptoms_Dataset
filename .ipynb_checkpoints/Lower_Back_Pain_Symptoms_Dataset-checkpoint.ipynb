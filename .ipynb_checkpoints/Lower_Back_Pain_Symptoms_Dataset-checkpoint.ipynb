{
 "cells": [
  {
   "cell_type": "markdown",
   "metadata": {},
   "source": [
    "# Lower Back Pain Symptoms Dataset"
   ]
  },
  {
   "cell_type": "code",
   "execution_count": 1,
   "metadata": {},
   "outputs": [
    {
     "name": "stderr",
     "output_type": "stream",
     "text": [
      "C:\\ProgramData\\Anaconda3\\envs\\tensorflow\\lib\\importlib\\_bootstrap.py:222: RuntimeWarning: numpy.dtype size changed, may indicate binary incompatibility. Expected 96, got 88\n",
      "  return f(*args, **kwds)\n",
      "C:\\ProgramData\\Anaconda3\\envs\\tensorflow\\lib\\importlib\\_bootstrap.py:222: RuntimeWarning: numpy.dtype size changed, may indicate binary incompatibility. Expected 96, got 88\n",
      "  return f(*args, **kwds)\n"
     ]
    }
   ],
   "source": [
    "import numpy as np \n",
    "import pandas as pd \n",
    "import matplotlib.pyplot as plt \n",
    "import seaborn as sns\n",
    "from sklearn.preprocessing import StandardScaler\n",
    "from sklearn.model_selection import train_test_split \n",
    "from sklearn.linear_model import LogisticRegression\n",
    "from sklearn.neighbors import KNeighborsClassifier\n",
    "from sklearn.metrics import confusion_matrix\n",
    "from sklearn import svm "
   ]
  },
  {
   "cell_type": "code",
   "execution_count": 2,
   "metadata": {},
   "outputs": [],
   "source": [
    "data = pd.read_csv('Dataset_spine.csv')"
   ]
  },
  {
   "cell_type": "code",
   "execution_count": 3,
   "metadata": {},
   "outputs": [
    {
     "data": {
      "text/html": [
       "<div>\n",
       "<style scoped>\n",
       "    .dataframe tbody tr th:only-of-type {\n",
       "        vertical-align: middle;\n",
       "    }\n",
       "\n",
       "    .dataframe tbody tr th {\n",
       "        vertical-align: top;\n",
       "    }\n",
       "\n",
       "    .dataframe thead th {\n",
       "        text-align: right;\n",
       "    }\n",
       "</style>\n",
       "<table border=\"1\" class=\"dataframe\">\n",
       "  <thead>\n",
       "    <tr style=\"text-align: right;\">\n",
       "      <th></th>\n",
       "      <th>Col1</th>\n",
       "      <th>Col2</th>\n",
       "      <th>Col3</th>\n",
       "      <th>Col4</th>\n",
       "      <th>Col5</th>\n",
       "      <th>Col6</th>\n",
       "      <th>Col7</th>\n",
       "      <th>Col8</th>\n",
       "      <th>Col9</th>\n",
       "      <th>Col10</th>\n",
       "      <th>Col11</th>\n",
       "      <th>Col12</th>\n",
       "      <th>Class_att</th>\n",
       "      <th>Unnamed: 13</th>\n",
       "    </tr>\n",
       "  </thead>\n",
       "  <tbody>\n",
       "    <tr>\n",
       "      <th>0</th>\n",
       "      <td>63.027818</td>\n",
       "      <td>22.552586</td>\n",
       "      <td>39.609117</td>\n",
       "      <td>40.475232</td>\n",
       "      <td>98.672917</td>\n",
       "      <td>-0.254400</td>\n",
       "      <td>0.744503</td>\n",
       "      <td>12.5661</td>\n",
       "      <td>14.5386</td>\n",
       "      <td>15.30468</td>\n",
       "      <td>-28.658501</td>\n",
       "      <td>43.5123</td>\n",
       "      <td>Abnormal</td>\n",
       "      <td>NaN</td>\n",
       "    </tr>\n",
       "    <tr>\n",
       "      <th>1</th>\n",
       "      <td>39.056951</td>\n",
       "      <td>10.060991</td>\n",
       "      <td>25.015378</td>\n",
       "      <td>28.995960</td>\n",
       "      <td>114.405425</td>\n",
       "      <td>4.564259</td>\n",
       "      <td>0.415186</td>\n",
       "      <td>12.8874</td>\n",
       "      <td>17.5323</td>\n",
       "      <td>16.78486</td>\n",
       "      <td>-25.530607</td>\n",
       "      <td>16.1102</td>\n",
       "      <td>Abnormal</td>\n",
       "      <td>NaN</td>\n",
       "    </tr>\n",
       "    <tr>\n",
       "      <th>2</th>\n",
       "      <td>68.832021</td>\n",
       "      <td>22.218482</td>\n",
       "      <td>50.092194</td>\n",
       "      <td>46.613539</td>\n",
       "      <td>105.985135</td>\n",
       "      <td>-3.530317</td>\n",
       "      <td>0.474889</td>\n",
       "      <td>26.8343</td>\n",
       "      <td>17.4861</td>\n",
       "      <td>16.65897</td>\n",
       "      <td>-29.031888</td>\n",
       "      <td>19.2221</td>\n",
       "      <td>Abnormal</td>\n",
       "      <td>Prediction is done by using binary classificat...</td>\n",
       "    </tr>\n",
       "    <tr>\n",
       "      <th>3</th>\n",
       "      <td>69.297008</td>\n",
       "      <td>24.652878</td>\n",
       "      <td>44.311238</td>\n",
       "      <td>44.644130</td>\n",
       "      <td>101.868495</td>\n",
       "      <td>11.211523</td>\n",
       "      <td>0.369345</td>\n",
       "      <td>23.5603</td>\n",
       "      <td>12.7074</td>\n",
       "      <td>11.42447</td>\n",
       "      <td>-30.470246</td>\n",
       "      <td>18.8329</td>\n",
       "      <td>Abnormal</td>\n",
       "      <td>NaN</td>\n",
       "    </tr>\n",
       "    <tr>\n",
       "      <th>4</th>\n",
       "      <td>49.712859</td>\n",
       "      <td>9.652075</td>\n",
       "      <td>28.317406</td>\n",
       "      <td>40.060784</td>\n",
       "      <td>108.168725</td>\n",
       "      <td>7.918501</td>\n",
       "      <td>0.543360</td>\n",
       "      <td>35.4940</td>\n",
       "      <td>15.9546</td>\n",
       "      <td>8.87237</td>\n",
       "      <td>-16.378376</td>\n",
       "      <td>24.9171</td>\n",
       "      <td>Abnormal</td>\n",
       "      <td>NaN</td>\n",
       "    </tr>\n",
       "  </tbody>\n",
       "</table>\n",
       "</div>"
      ],
      "text/plain": [
       "        Col1       Col2       Col3       Col4        Col5       Col6  \\\n",
       "0  63.027818  22.552586  39.609117  40.475232   98.672917  -0.254400   \n",
       "1  39.056951  10.060991  25.015378  28.995960  114.405425   4.564259   \n",
       "2  68.832021  22.218482  50.092194  46.613539  105.985135  -3.530317   \n",
       "3  69.297008  24.652878  44.311238  44.644130  101.868495  11.211523   \n",
       "4  49.712859   9.652075  28.317406  40.060784  108.168725   7.918501   \n",
       "\n",
       "       Col7     Col8     Col9     Col10      Col11    Col12 Class_att  \\\n",
       "0  0.744503  12.5661  14.5386  15.30468 -28.658501  43.5123  Abnormal   \n",
       "1  0.415186  12.8874  17.5323  16.78486 -25.530607  16.1102  Abnormal   \n",
       "2  0.474889  26.8343  17.4861  16.65897 -29.031888  19.2221  Abnormal   \n",
       "3  0.369345  23.5603  12.7074  11.42447 -30.470246  18.8329  Abnormal   \n",
       "4  0.543360  35.4940  15.9546   8.87237 -16.378376  24.9171  Abnormal   \n",
       "\n",
       "                                         Unnamed: 13  \n",
       "0                                                NaN  \n",
       "1                                                NaN  \n",
       "2  Prediction is done by using binary classificat...  \n",
       "3                                                NaN  \n",
       "4                                                NaN  "
      ]
     },
     "execution_count": 3,
     "metadata": {},
     "output_type": "execute_result"
    }
   ],
   "source": [
    "data.head()"
   ]
  },
  {
   "cell_type": "markdown",
   "metadata": {},
   "source": [
    "Last column should be description of data columns, can be deleted "
   ]
  },
  {
   "cell_type": "code",
   "execution_count": 4,
   "metadata": {},
   "outputs": [],
   "source": [
    "del data['Unnamed: 13']"
   ]
  },
  {
   "cell_type": "code",
   "execution_count": 5,
   "metadata": {},
   "outputs": [
    {
     "name": "stdout",
     "output_type": "stream",
     "text": [
      "<class 'pandas.core.frame.DataFrame'>\n",
      "RangeIndex: 310 entries, 0 to 309\n",
      "Data columns (total 13 columns):\n",
      "Col1         310 non-null float64\n",
      "Col2         310 non-null float64\n",
      "Col3         310 non-null float64\n",
      "Col4         310 non-null float64\n",
      "Col5         310 non-null float64\n",
      "Col6         310 non-null float64\n",
      "Col7         310 non-null float64\n",
      "Col8         310 non-null float64\n",
      "Col9         310 non-null float64\n",
      "Col10        310 non-null float64\n",
      "Col11        310 non-null float64\n",
      "Col12        310 non-null float64\n",
      "Class_att    310 non-null object\n",
      "dtypes: float64(12), object(1)\n",
      "memory usage: 31.6+ KB\n"
     ]
    }
   ],
   "source": [
    "data.info()"
   ]
  },
  {
   "cell_type": "markdown",
   "metadata": {},
   "source": [
    "Apart from class column, all variables are in numeric"
   ]
  },
  {
   "cell_type": "code",
   "execution_count": 6,
   "metadata": {},
   "outputs": [
    {
     "data": {
      "text/html": [
       "<div>\n",
       "<style scoped>\n",
       "    .dataframe tbody tr th:only-of-type {\n",
       "        vertical-align: middle;\n",
       "    }\n",
       "\n",
       "    .dataframe tbody tr th {\n",
       "        vertical-align: top;\n",
       "    }\n",
       "\n",
       "    .dataframe thead th {\n",
       "        text-align: right;\n",
       "    }\n",
       "</style>\n",
       "<table border=\"1\" class=\"dataframe\">\n",
       "  <thead>\n",
       "    <tr style=\"text-align: right;\">\n",
       "      <th></th>\n",
       "      <th>Col1</th>\n",
       "      <th>Col2</th>\n",
       "      <th>Col3</th>\n",
       "      <th>Col4</th>\n",
       "      <th>Col5</th>\n",
       "      <th>Col6</th>\n",
       "      <th>Col7</th>\n",
       "      <th>Col8</th>\n",
       "      <th>Col9</th>\n",
       "      <th>Col10</th>\n",
       "      <th>Col11</th>\n",
       "      <th>Col12</th>\n",
       "    </tr>\n",
       "  </thead>\n",
       "  <tbody>\n",
       "    <tr>\n",
       "      <th>count</th>\n",
       "      <td>310.000000</td>\n",
       "      <td>310.000000</td>\n",
       "      <td>310.000000</td>\n",
       "      <td>310.000000</td>\n",
       "      <td>310.000000</td>\n",
       "      <td>310.000000</td>\n",
       "      <td>310.000000</td>\n",
       "      <td>310.000000</td>\n",
       "      <td>310.000000</td>\n",
       "      <td>310.000000</td>\n",
       "      <td>310.000000</td>\n",
       "      <td>310.000000</td>\n",
       "    </tr>\n",
       "    <tr>\n",
       "      <th>mean</th>\n",
       "      <td>60.496653</td>\n",
       "      <td>17.542822</td>\n",
       "      <td>51.930930</td>\n",
       "      <td>42.953831</td>\n",
       "      <td>117.920655</td>\n",
       "      <td>26.296694</td>\n",
       "      <td>0.472979</td>\n",
       "      <td>21.321526</td>\n",
       "      <td>13.064511</td>\n",
       "      <td>11.933317</td>\n",
       "      <td>-14.053139</td>\n",
       "      <td>25.645981</td>\n",
       "    </tr>\n",
       "    <tr>\n",
       "      <th>std</th>\n",
       "      <td>17.236520</td>\n",
       "      <td>10.008330</td>\n",
       "      <td>18.554064</td>\n",
       "      <td>13.423102</td>\n",
       "      <td>13.317377</td>\n",
       "      <td>37.559027</td>\n",
       "      <td>0.285787</td>\n",
       "      <td>8.639423</td>\n",
       "      <td>3.399713</td>\n",
       "      <td>2.893265</td>\n",
       "      <td>12.225582</td>\n",
       "      <td>10.450558</td>\n",
       "    </tr>\n",
       "    <tr>\n",
       "      <th>min</th>\n",
       "      <td>26.147921</td>\n",
       "      <td>-6.554948</td>\n",
       "      <td>14.000000</td>\n",
       "      <td>13.366931</td>\n",
       "      <td>70.082575</td>\n",
       "      <td>-11.058179</td>\n",
       "      <td>0.003220</td>\n",
       "      <td>7.027000</td>\n",
       "      <td>7.037800</td>\n",
       "      <td>7.030600</td>\n",
       "      <td>-35.287375</td>\n",
       "      <td>7.007900</td>\n",
       "    </tr>\n",
       "    <tr>\n",
       "      <th>25%</th>\n",
       "      <td>46.430294</td>\n",
       "      <td>10.667069</td>\n",
       "      <td>37.000000</td>\n",
       "      <td>33.347122</td>\n",
       "      <td>110.709196</td>\n",
       "      <td>1.603727</td>\n",
       "      <td>0.224367</td>\n",
       "      <td>13.054400</td>\n",
       "      <td>10.417800</td>\n",
       "      <td>9.541140</td>\n",
       "      <td>-24.289522</td>\n",
       "      <td>17.189075</td>\n",
       "    </tr>\n",
       "    <tr>\n",
       "      <th>50%</th>\n",
       "      <td>58.691038</td>\n",
       "      <td>16.357689</td>\n",
       "      <td>49.562398</td>\n",
       "      <td>42.404912</td>\n",
       "      <td>118.268178</td>\n",
       "      <td>11.767934</td>\n",
       "      <td>0.475989</td>\n",
       "      <td>21.907150</td>\n",
       "      <td>12.938450</td>\n",
       "      <td>11.953835</td>\n",
       "      <td>-14.622856</td>\n",
       "      <td>24.931950</td>\n",
       "    </tr>\n",
       "    <tr>\n",
       "      <th>75%</th>\n",
       "      <td>72.877696</td>\n",
       "      <td>22.120395</td>\n",
       "      <td>63.000000</td>\n",
       "      <td>52.695888</td>\n",
       "      <td>125.467674</td>\n",
       "      <td>41.287352</td>\n",
       "      <td>0.704846</td>\n",
       "      <td>28.954075</td>\n",
       "      <td>15.889525</td>\n",
       "      <td>14.371810</td>\n",
       "      <td>-3.497094</td>\n",
       "      <td>33.979600</td>\n",
       "    </tr>\n",
       "    <tr>\n",
       "      <th>max</th>\n",
       "      <td>129.834041</td>\n",
       "      <td>49.431864</td>\n",
       "      <td>125.742385</td>\n",
       "      <td>121.429566</td>\n",
       "      <td>163.071041</td>\n",
       "      <td>418.543082</td>\n",
       "      <td>0.998827</td>\n",
       "      <td>36.743900</td>\n",
       "      <td>19.324000</td>\n",
       "      <td>16.821080</td>\n",
       "      <td>6.972071</td>\n",
       "      <td>44.341200</td>\n",
       "    </tr>\n",
       "  </tbody>\n",
       "</table>\n",
       "</div>"
      ],
      "text/plain": [
       "             Col1        Col2        Col3        Col4        Col5        Col6  \\\n",
       "count  310.000000  310.000000  310.000000  310.000000  310.000000  310.000000   \n",
       "mean    60.496653   17.542822   51.930930   42.953831  117.920655   26.296694   \n",
       "std     17.236520   10.008330   18.554064   13.423102   13.317377   37.559027   \n",
       "min     26.147921   -6.554948   14.000000   13.366931   70.082575  -11.058179   \n",
       "25%     46.430294   10.667069   37.000000   33.347122  110.709196    1.603727   \n",
       "50%     58.691038   16.357689   49.562398   42.404912  118.268178   11.767934   \n",
       "75%     72.877696   22.120395   63.000000   52.695888  125.467674   41.287352   \n",
       "max    129.834041   49.431864  125.742385  121.429566  163.071041  418.543082   \n",
       "\n",
       "             Col7        Col8        Col9       Col10       Col11       Col12  \n",
       "count  310.000000  310.000000  310.000000  310.000000  310.000000  310.000000  \n",
       "mean     0.472979   21.321526   13.064511   11.933317  -14.053139   25.645981  \n",
       "std      0.285787    8.639423    3.399713    2.893265   12.225582   10.450558  \n",
       "min      0.003220    7.027000    7.037800    7.030600  -35.287375    7.007900  \n",
       "25%      0.224367   13.054400   10.417800    9.541140  -24.289522   17.189075  \n",
       "50%      0.475989   21.907150   12.938450   11.953835  -14.622856   24.931950  \n",
       "75%      0.704846   28.954075   15.889525   14.371810   -3.497094   33.979600  \n",
       "max      0.998827   36.743900   19.324000   16.821080    6.972071   44.341200  "
      ]
     },
     "execution_count": 6,
     "metadata": {},
     "output_type": "execute_result"
    }
   ],
   "source": [
    "data.describe()"
   ]
  },
  {
   "cell_type": "code",
   "execution_count": 7,
   "metadata": {},
   "outputs": [
    {
     "data": {
      "text/plain": [
       "Col1         False\n",
       "Col2         False\n",
       "Col3         False\n",
       "Col4         False\n",
       "Col5         False\n",
       "Col6         False\n",
       "Col7         False\n",
       "Col8         False\n",
       "Col9         False\n",
       "Col10        False\n",
       "Col11        False\n",
       "Col12        False\n",
       "Class_att    False\n",
       "dtype: bool"
      ]
     },
     "execution_count": 7,
     "metadata": {},
     "output_type": "execute_result"
    }
   ],
   "source": [
    "data.isnull().any()"
   ]
  },
  {
   "cell_type": "markdown",
   "metadata": {},
   "source": [
    "There is no missing values "
   ]
  },
  {
   "cell_type": "code",
   "execution_count": 8,
   "metadata": {},
   "outputs": [
    {
     "data": {
      "text/plain": [
       "(310, 13)"
      ]
     },
     "execution_count": 8,
     "metadata": {},
     "output_type": "execute_result"
    }
   ],
   "source": [
    "data.shape"
   ]
  },
  {
   "cell_type": "markdown",
   "metadata": {},
   "source": [
    "There are 310 records and 13 variables "
   ]
  },
  {
   "cell_type": "code",
   "execution_count": 9,
   "metadata": {},
   "outputs": [
    {
     "data": {
      "image/png": "[encoded data removed]",
      "text/plain": [
       "<Figure size 1080x720 with 2 Axes>"
      ]
     },
     "metadata": {},
     "output_type": "display_data"
    }
   ],
   "source": [
    "correlation = data.corr()\n",
    "plt.figure(figsize=(15,10))\n",
    "sns.heatmap(correlation,annot=True)\n",
    "plt.show()"
   ]
  },
  {
   "cell_type": "code",
   "execution_count": 10,
   "metadata": {},
   "outputs": [
    {
     "data": {
      "text/plain": [
       "210"
      ]
     },
     "execution_count": 10,
     "metadata": {},
     "output_type": "execute_result"
    }
   ],
   "source": [
    "data[data['Class_att']=='Abnormal'].shape[0]"
   ]
  },
  {
   "cell_type": "code",
   "execution_count": 11,
   "metadata": {},
   "outputs": [
    {
     "data": {
      "text/plain": [
       "100"
      ]
     },
     "execution_count": 11,
     "metadata": {},
     "output_type": "execute_result"
    }
   ],
   "source": [
    "data[data['Class_att']=='Normal'].shape[0]"
   ]
  },
  {
   "cell_type": "markdown",
   "metadata": {},
   "source": [
    "There are 210 abnormal records and 100 normal records. Not too balanced "
   ]
  },
  {
   "cell_type": "code",
   "execution_count": 12,
   "metadata": {},
   "outputs": [
    {
     "data": {
      "image/png": "[encoded data removed]",
      "text/plain": [
       "<Figure size 1080x720 with 1 Axes>"
      ]
     },
     "metadata": {},
     "output_type": "display_data"
    }
   ],
   "source": [
    "plt.figure(figsize=(15,10))\n",
    "data.boxplot(patch_artist=True)\n",
    "plt.show()"
   ]
  },
  {
   "cell_type": "markdown",
   "metadata": {},
   "source": [
    "Seems there is an outliner in Col6. To prevent distortion, this record will be removed"
   ]
  },
  {
   "cell_type": "code",
   "execution_count": 13,
   "metadata": {},
   "outputs": [],
   "source": [
    "data.drop(data[data['Col6']>400].index,inplace=True)"
   ]
  },
  {
   "cell_type": "code",
   "execution_count": 14,
   "metadata": {},
   "outputs": [
    {
     "data": {
      "text/plain": [
       "(309, 14)"
      ]
     },
     "execution_count": 14,
     "metadata": {},
     "output_type": "execute_result"
    }
   ],
   "source": [
    "data.reset_index(inplace=True)\n",
    "data.shape"
   ]
  },
  {
   "cell_type": "markdown",
   "metadata": {},
   "source": [
    "Only 309 records remain "
   ]
  },
  {
   "cell_type": "markdown",
   "metadata": {},
   "source": [
    "Next is to change class label to 1 and 0 for Abnormal and Normal respectively "
   ]
  },
  {
   "cell_type": "code",
   "execution_count": 15,
   "metadata": {},
   "outputs": [],
   "source": [
    "data['Class_att']=data['Class_att'].apply(lambda x : '1' if x=='Abnormal' else '0')"
   ]
  },
  {
   "cell_type": "markdown",
   "metadata": {},
   "source": [
    "## Modelling "
   ]
  },
  {
   "cell_type": "markdown",
   "metadata": {},
   "source": [
    "### 1. Preparation "
   ]
  },
  {
   "cell_type": "markdown",
   "metadata": {},
   "source": [
    "Scalling, separating feature set and label set, separating training set and test set "
   ]
  },
  {
   "cell_type": "code",
   "execution_count": 16,
   "metadata": {},
   "outputs": [
    {
     "data": {
      "text/html": [
       "<div>\n",
       "<style scoped>\n",
       "    .dataframe tbody tr th:only-of-type {\n",
       "        vertical-align: middle;\n",
       "    }\n",
       "\n",
       "    .dataframe tbody tr th {\n",
       "        vertical-align: top;\n",
       "    }\n",
       "\n",
       "    .dataframe thead th {\n",
       "        text-align: right;\n",
       "    }\n",
       "</style>\n",
       "<table border=\"1\" class=\"dataframe\">\n",
       "  <thead>\n",
       "    <tr style=\"text-align: right;\">\n",
       "      <th></th>\n",
       "      <th>Col1</th>\n",
       "      <th>Col10</th>\n",
       "      <th>Col11</th>\n",
       "      <th>Col12</th>\n",
       "      <th>Col2</th>\n",
       "      <th>Col3</th>\n",
       "      <th>Col4</th>\n",
       "      <th>Col5</th>\n",
       "      <th>Col6</th>\n",
       "      <th>Col7</th>\n",
       "      <th>Col8</th>\n",
       "      <th>Col9</th>\n",
       "      <th>index</th>\n",
       "    </tr>\n",
       "  </thead>\n",
       "  <tbody>\n",
       "    <tr>\n",
       "      <th>count</th>\n",
       "      <td>3.090000e+02</td>\n",
       "      <td>3.090000e+02</td>\n",
       "      <td>3.090000e+02</td>\n",
       "      <td>3.090000e+02</td>\n",
       "      <td>3.090000e+02</td>\n",
       "      <td>3.090000e+02</td>\n",
       "      <td>3.090000e+02</td>\n",
       "      <td>3.090000e+02</td>\n",
       "      <td>309.000000</td>\n",
       "      <td>3.090000e+02</td>\n",
       "      <td>3.090000e+02</td>\n",
       "      <td>3.090000e+02</td>\n",
       "      <td>3.090000e+02</td>\n",
       "    </tr>\n",
       "    <tr>\n",
       "      <th>mean</th>\n",
       "      <td>2.759389e-16</td>\n",
       "      <td>7.760782e-16</td>\n",
       "      <td>8.623091e-17</td>\n",
       "      <td>1.322207e-16</td>\n",
       "      <td>6.898473e-17</td>\n",
       "      <td>1.149746e-16</td>\n",
       "      <td>-3.679186e-16</td>\n",
       "      <td>8.278168e-16</td>\n",
       "      <td>0.000000</td>\n",
       "      <td>3.262403e-16</td>\n",
       "      <td>-8.623091e-17</td>\n",
       "      <td>1.494669e-16</td>\n",
       "      <td>-9.197964e-17</td>\n",
       "    </tr>\n",
       "    <tr>\n",
       "      <th>std</th>\n",
       "      <td>1.001622e+00</td>\n",
       "      <td>1.001622e+00</td>\n",
       "      <td>1.001622e+00</td>\n",
       "      <td>1.001622e+00</td>\n",
       "      <td>1.001622e+00</td>\n",
       "      <td>1.001622e+00</td>\n",
       "      <td>1.001622e+00</td>\n",
       "      <td>1.001622e+00</td>\n",
       "      <td>1.001622</td>\n",
       "      <td>1.001622e+00</td>\n",
       "      <td>1.001622e+00</td>\n",
       "      <td>1.001622e+00</td>\n",
       "      <td>1.001622e+00</td>\n",
       "    </tr>\n",
       "    <tr>\n",
       "      <th>min</th>\n",
       "      <td>-2.033920e+00</td>\n",
       "      <td>-1.695268e+00</td>\n",
       "      <td>-1.749936e+00</td>\n",
       "      <td>-1.782967e+00</td>\n",
       "      <td>-2.413996e+00</td>\n",
       "      <td>-2.045086e+00</td>\n",
       "      <td>-2.317633e+00</td>\n",
       "      <td>-3.598089e+00</td>\n",
       "      <td>-1.195467</td>\n",
       "      <td>-1.644263e+00</td>\n",
       "      <td>-1.655859e+00</td>\n",
       "      <td>-1.775446e+00</td>\n",
       "      <td>-1.725656e+00</td>\n",
       "    </tr>\n",
       "    <tr>\n",
       "      <th>25%</th>\n",
       "      <td>-8.252598e-01</td>\n",
       "      <td>-8.293587e-01</td>\n",
       "      <td>-8.452152e-01</td>\n",
       "      <td>-8.109590e-01</td>\n",
       "      <td>-6.887296e-01</td>\n",
       "      <td>-8.053920e-01</td>\n",
       "      <td>-7.394791e-01</td>\n",
       "      <td>-5.444615e-01</td>\n",
       "      <td>-0.776291</td>\n",
       "      <td>-8.709970e-01</td>\n",
       "      <td>-9.629807e-01</td>\n",
       "      <td>-7.812625e-01</td>\n",
       "      <td>-8.663313e-01</td>\n",
       "    </tr>\n",
       "    <tr>\n",
       "      <th>50%</th>\n",
       "      <td>-9.970018e-02</td>\n",
       "      <td>6.503591e-03</td>\n",
       "      <td>-4.618452e-02</td>\n",
       "      <td>-6.814669e-02</td>\n",
       "      <td>-1.155537e-01</td>\n",
       "      <td>-1.167939e-01</td>\n",
       "      <td>-2.577900e-02</td>\n",
       "      <td>2.927998e-02</td>\n",
       "      <td>-0.449361</td>\n",
       "      <td>1.110127e-02</td>\n",
       "      <td>6.680322e-02</td>\n",
       "      <td>-3.340311e-02</td>\n",
       "      <td>4.153420e-03</td>\n",
       "    </tr>\n",
       "    <tr>\n",
       "      <th>75%</th>\n",
       "      <td>7.373866e-01</td>\n",
       "      <td>8.437761e-01</td>\n",
       "      <td>8.621391e-01</td>\n",
       "      <td>8.001104e-01</td>\n",
       "      <td>4.611811e-01</td>\n",
       "      <td>5.960014e-01</td>\n",
       "      <td>7.782263e-01</td>\n",
       "      <td>5.656994e-01</td>\n",
       "      <td>0.525211</td>\n",
       "      <td>8.088970e-01</td>\n",
       "      <td>8.844553e-01</td>\n",
       "      <td>8.438573e-01</td>\n",
       "      <td>8.634781e-01</td>\n",
       "    </tr>\n",
       "    <tr>\n",
       "      <th>max</th>\n",
       "      <td>3.449381e+00</td>\n",
       "      <td>1.688829e+00</td>\n",
       "      <td>1.722048e+00</td>\n",
       "      <td>1.789592e+00</td>\n",
       "      <td>3.187612e+00</td>\n",
       "      <td>3.977800e+00</td>\n",
       "      <td>2.923046e+00</td>\n",
       "      <td>3.391100e+00</td>\n",
       "      <td>4.098903</td>\n",
       "      <td>1.849907e+00</td>\n",
       "      <td>1.784383e+00</td>\n",
       "      <td>1.840307e+00</td>\n",
       "      <td>1.722803e+00</td>\n",
       "    </tr>\n",
       "  </tbody>\n",
       "</table>\n",
       "</div>"
      ],
      "text/plain": [
       "               Col1         Col10         Col11         Col12          Col2  \\\n",
       "count  3.090000e+02  3.090000e+02  3.090000e+02  3.090000e+02  3.090000e+02   \n",
       "mean   2.759389e-16  7.760782e-16  8.623091e-17  1.322207e-16  6.898473e-17   \n",
       "std    1.001622e+00  1.001622e+00  1.001622e+00  1.001622e+00  1.001622e+00   \n",
       "min   -2.033920e+00 -1.695268e+00 -1.749936e+00 -1.782967e+00 -2.413996e+00   \n",
       "25%   -8.252598e-01 -8.293587e-01 -8.452152e-01 -8.109590e-01 -6.887296e-01   \n",
       "50%   -9.970018e-02  6.503591e-03 -4.618452e-02 -6.814669e-02 -1.155537e-01   \n",
       "75%    7.373866e-01  8.437761e-01  8.621391e-01  8.001104e-01  4.611811e-01   \n",
       "max    3.449381e+00  1.688829e+00  1.722048e+00  1.789592e+00  3.187612e+00   \n",
       "\n",
       "               Col3          Col4          Col5        Col6          Col7  \\\n",
       "count  3.090000e+02  3.090000e+02  3.090000e+02  309.000000  3.090000e+02   \n",
       "mean   1.149746e-16 -3.679186e-16  8.278168e-16    0.000000  3.262403e-16   \n",
       "std    1.001622e+00  1.001622e+00  1.001622e+00    1.001622  1.001622e+00   \n",
       "min   -2.045086e+00 -2.317633e+00 -3.598089e+00   -1.195467 -1.644263e+00   \n",
       "25%   -8.053920e-01 -7.394791e-01 -5.444615e-01   -0.776291 -8.709970e-01   \n",
       "50%   -1.167939e-01 -2.577900e-02  2.927998e-02   -0.449361  1.110127e-02   \n",
       "75%    5.960014e-01  7.782263e-01  5.656994e-01    0.525211  8.088970e-01   \n",
       "max    3.977800e+00  2.923046e+00  3.391100e+00    4.098903  1.849907e+00   \n",
       "\n",
       "               Col8          Col9         index  \n",
       "count  3.090000e+02  3.090000e+02  3.090000e+02  \n",
       "mean  -8.623091e-17  1.494669e-16 -9.197964e-17  \n",
       "std    1.001622e+00  1.001622e+00  1.001622e+00  \n",
       "min   -1.655859e+00 -1.775446e+00 -1.725656e+00  \n",
       "25%   -9.629807e-01 -7.812625e-01 -8.663313e-01  \n",
       "50%    6.680322e-02 -3.340311e-02  4.153420e-03  \n",
       "75%    8.844553e-01  8.438573e-01  8.634781e-01  \n",
       "max    1.784383e+00  1.840307e+00  1.722803e+00  "
      ]
     },
     "execution_count": 16,
     "metadata": {},
     "output_type": "execute_result"
    }
   ],
   "source": [
    "data_feature = data[data.columns.difference(['Class_att'])]\n",
    "scaler = StandardScaler()\n",
    "scaled_data = scaler.fit_transform(data_feature)\n",
    "data_scaled= pd.DataFrame(data=scaled_data,columns=data_feature.columns)\n",
    "data_scaled['Class_att']=data['Class_att']\n",
    "data_scaled.describe()"
   ]
  },
  {
   "cell_type": "code",
   "execution_count": 17,
   "metadata": {},
   "outputs": [],
   "source": [
    "X=data_scaled[data_scaled.columns.difference(['Class_att'])]\n",
    "y=data_scaled['Class_att']\n",
    "X_train, X_test, y_train, y_test = train_test_split(X, y,test_size=0.2,random_state=42)"
   ]
  },
  {
   "cell_type": "markdown",
   "metadata": {},
   "source": [
    "### 2.1 K Nearest Neighbors "
   ]
  },
  {
   "cell_type": "code",
   "execution_count": 18,
   "metadata": {},
   "outputs": [
    {
     "data": {
      "text/plain": [
       "0.9838709677419355"
      ]
     },
     "execution_count": 18,
     "metadata": {},
     "output_type": "execute_result"
    }
   ],
   "source": [
    "neighbor = KNeighborsClassifier(n_neighbors=3)\n",
    "neighbor.fit(X_train,y_train)\n",
    "neighbor.score(X_test,y_test)"
   ]
  },
  {
   "cell_type": "markdown",
   "metadata": {},
   "source": [
    "98% of accuracy. Not bad \n",
    "<br> However, due to unbalanced data, better look at confusion matrix"
   ]
  },
  {
   "cell_type": "code",
   "execution_count": 19,
   "metadata": {},
   "outputs": [],
   "source": [
    "y_predict = neighbor.predict(X_test)"
   ]
  },
  {
   "cell_type": "code",
   "execution_count": 20,
   "metadata": {},
   "outputs": [
    {
     "data": {
      "text/plain": [
       "array([[18,  0],\n",
       "       [ 1, 43]], dtype=int64)"
      ]
     },
     "execution_count": 20,
     "metadata": {},
     "output_type": "execute_result"
    }
   ],
   "source": [
    "confusion_matrix(y_test,y_predict)"
   ]
  },
  {
   "cell_type": "markdown",
   "metadata": {},
   "source": [
    "So good that only one mismatched label"
   ]
  },
  {
   "cell_type": "markdown",
   "metadata": {},
   "source": [
    "### 2.2 Support Vector Machine "
   ]
  },
  {
   "cell_type": "code",
   "execution_count": 21,
   "metadata": {},
   "outputs": [
    {
     "data": {
      "text/plain": [
       "0.9838709677419355"
      ]
     },
     "execution_count": 21,
     "metadata": {},
     "output_type": "execute_result"
    }
   ],
   "source": [
    "Svm=svm.SVC()\n",
    "Svm.fit(X_train,y_train)\n",
    "Svm.score(X_test,y_test)"
   ]
  },
  {
   "cell_type": "code",
   "execution_count": 22,
   "metadata": {},
   "outputs": [
    {
     "data": {
      "text/plain": [
       "array([[18,  0],\n",
       "       [ 1, 43]], dtype=int64)"
      ]
     },
     "execution_count": 22,
     "metadata": {},
     "output_type": "execute_result"
    }
   ],
   "source": [
    "y_predict = Svm.predict(X_test)\n",
    "confusion_matrix(y_test,y_predict)"
   ]
  },
  {
   "cell_type": "markdown",
   "metadata": {},
   "source": [
    "Same result as K Nearest Neighbors "
   ]
  },
  {
   "cell_type": "markdown",
   "metadata": {},
   "source": [
    "### 2.3 Logistic Regression"
   ]
  },
  {
   "cell_type": "code",
   "execution_count": 23,
   "metadata": {},
   "outputs": [
    {
     "data": {
      "text/plain": [
       "0.9838709677419355"
      ]
     },
     "execution_count": 23,
     "metadata": {},
     "output_type": "execute_result"
    }
   ],
   "source": [
    "logreg = LogisticRegression()\n",
    "logreg.fit(X_train,y_train)\n",
    "logreg.score(X_test,y_test)"
   ]
  },
  {
   "cell_type": "code",
   "execution_count": 24,
   "metadata": {},
   "outputs": [
    {
     "data": {
      "text/plain": [
       "array([[18,  0],\n",
       "       [ 1, 43]], dtype=int64)"
      ]
     },
     "execution_count": 24,
     "metadata": {},
     "output_type": "execute_result"
    }
   ],
   "source": [
    "y_predict = logreg.predict(X_test)\n",
    "confusion_matrix(y_test,y_predict)"
   ]
  },
  {
   "cell_type": "markdown",
   "metadata": {},
   "source": [
    "Apparently all three models can also predict the same results"
   ]
  }
 ],
 "metadata": {
  "kernelspec": {
   "display_name": "Python 3",
   "language": "python",
   "name": "python3"
  },
  "language_info": {
   "codemirror_mode": {
    "name": "ipython",
    "version": 3
   },
   "file_extension": ".py",
   "mimetype": "text/x-python",
   "name": "python",
   "nbconvert_exporter": "python",
   "pygments_lexer": "ipython3",
   "version": "3.5.5"
  }
 },
 "nbformat": 4,
 "nbformat_minor": 2
}
